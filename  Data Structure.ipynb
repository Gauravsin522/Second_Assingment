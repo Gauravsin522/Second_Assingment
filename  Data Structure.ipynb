{
 "cells": [
  {
   "cell_type": "code",
   "execution_count": 6,
   "id": "2ad32ebc-67e6-4120-94c2-cd742cb56d44",
   "metadata": {},
   "outputs": [
    {
     "name": "stdout",
     "output_type": "stream",
     "text": [
      "Ga\n",
      "Ga\n",
      "Gaura\n"
     ]
    }
   ],
   "source": [
    "# Question 1.  Discuss string slicing and provide examples.\n",
    "\n",
    "# Answer : String slicing is allow to access data from string to the specific path from anywhere.\n",
    "\n",
    "# Example 1. :\n",
    "Name = \"Gaurav\"\n",
    "print(Name[0:2])\n",
    "\n",
    "#Example 2.\n",
    "Name = \"Gaurav\"\n",
    "print(Name[:2])\n",
    "\n",
    "#Example 3.\n",
    "Name = \"Gaurav\"\n",
    "print(Name[:-1])\n"
   ]
  },
  {
   "cell_type": "code",
   "execution_count": 12,
   "id": "65db2a4d-bad8-416f-a68f-b5c15cd15b65",
   "metadata": {},
   "outputs": [
    {
     "data": {
      "text/plain": [
       "(1+3j)"
      ]
     },
     "execution_count": 12,
     "metadata": {},
     "output_type": "execute_result"
    }
   ],
   "source": [
    "# Question 2.  Explain the key features of lists in Python .\n",
    "\n",
    "#answer : List in python is ordered and mutables and there are some key features of list :\n",
    "\n",
    "# list can store multiple types of data its can be integers , boolen value , string , etc ,.\n",
    "\n",
    "# Example :\n",
    "\n",
    "\n",
    "a = [1, 2, \"Gaurav\", True, 1.1, 1+3j]\n",
    "\n",
    "\n",
    "# List is mutable we can add and  remove items from list after list is defined.\n",
    "\n",
    "# Example :\n",
    "a.append(3)\n",
    "\n",
    "a.pop(-2)\n",
    "\n",
    "\n"
   ]
  },
  {
   "cell_type": "code",
   "execution_count": 45,
   "id": "7113a79c-7a46-4f66-94e3-5c3eafb444e2",
   "metadata": {},
   "outputs": [
    {
     "name": "stdout",
     "output_type": "stream",
     "text": [
      "[2, 3, 3, 4, 4]\n",
      "[1, 8, 2, 3, 3, 4, 4]\n"
     ]
    },
    {
     "data": {
      "text/plain": [
       "<function list.pop(index=-1, /)>"
      ]
     },
     "execution_count": 45,
     "metadata": {},
     "output_type": "execute_result"
    }
   ],
   "source": [
    "#Question 3 .  Describe how to access, modify, and delete elements in a list with example.\n",
    "\n",
    "#Answer : List is mutable its can access multiples ways :\n",
    "\n",
    "# 1 . Slicing\n",
    "\n",
    "lists = [1,2,3,3,4,4]\n",
    "\n",
    "print(lists[1:])\n",
    "\n",
    "\n",
    "# 2. Insert \n",
    "lists.insert(1,8)\n",
    "print (lists)\n",
    "\n",
    "# 3. Extend \n",
    "list1 = [1,3,3,4,6,7]\n",
    "list2 = [90,778,88,9]\n",
    "list1.extend(list2)\n",
    "\n",
    "#4. repeating\n",
    "\n",
    "list1*2\n",
    "\n",
    "#5. sort\n",
    "\n",
    "list2.sort()\n",
    "\n",
    "# 6 .indexing\n",
    "\n",
    "list1.index(3)\n",
    "\n",
    "# 7 len\n",
    "len(lists)\n",
    "\n",
    "#8 . remove \n",
    "\n",
    "list1.remove(1)\n",
    "\n",
    "\n",
    "# 9 . del \n",
    "new_list = [21,33]\n",
    "del new_list\n",
    "\n",
    "#10 . clear \n",
    "list_for= [21,33]\n",
    "list_for.clear\n",
    "\n",
    "#11 . pop\n",
    "\n",
    "list1.pop\n"
   ]
  },
  {
   "cell_type": "code",
   "execution_count": 13,
   "id": "00f2a5e0-8ddf-4709-8fbc-a246c826169f",
   "metadata": {},
   "outputs": [
    {
     "name": "stdout",
     "output_type": "stream",
     "text": [
      "[1, 2, 23.4, True, (3+1j)]\n"
     ]
    },
    {
     "ename": "TypeError",
     "evalue": "'tuple' object does not support item assignment",
     "output_type": "error",
     "traceback": [
      "\u001b[0;31m---------------------------------------------------------------------------\u001b[0m",
      "\u001b[0;31mTypeError\u001b[0m                                 Traceback (most recent call last)",
      "Cell \u001b[0;32mIn[13], line 21\u001b[0m\n\u001b[1;32m     14\u001b[0m \u001b[38;5;66;03m# Answer : Tuple  is ordered ,immutable collections of element. Its can store any type of data its can be integers , string , boolen etc.,\u001b[39;00m\n\u001b[1;32m     15\u001b[0m \n\u001b[1;32m     16\u001b[0m \n\u001b[1;32m     17\u001b[0m \u001b[38;5;66;03m# Example :\u001b[39;00m\n\u001b[1;32m     19\u001b[0m List_2\u001b[38;5;241m=\u001b[39m (\u001b[38;5;241m3\u001b[39m,\u001b[38;5;241m23.4\u001b[39m,\u001b[38;5;28;01mTrue\u001b[39;00m,\u001b[38;5;241m3\u001b[39m\u001b[38;5;241m+\u001b[39m\u001b[38;5;241m1\u001b[39mj)\n\u001b[0;32m---> 21\u001b[0m \u001b[43mList_2\u001b[49m\u001b[43m[\u001b[49m\u001b[38;5;241;43m1\u001b[39;49m\u001b[43m]\u001b[49m\u001b[38;5;241m=\u001b[39m\u001b[38;5;241m1\u001b[39m\n\u001b[1;32m     22\u001b[0m \u001b[38;5;28mprint\u001b[39m(List_2)\n",
      "\u001b[0;31mTypeError\u001b[0m: 'tuple' object does not support item assignment"
     ]
    }
   ],
   "source": [
    "# Questiom 4 .  Compare and contrast tuples and lists with examples.\n",
    "\n",
    "\n",
    "# Answer : list is ordered ,mutable collections of element. Its can store any type of data its can be integers , string , boolen etc.,\n",
    "\n",
    "# Example :\n",
    "\n",
    "List_1 = [1,3,23.4,True,3+1j]\n",
    "\n",
    "List_1[1]=2\n",
    "print(List_1)\n",
    "\n",
    "\n",
    "# Answer : Tuple  is ordered ,immutable collections of element. Its can store any type of data its can be integers , string , boolen etc.,\n",
    "\n",
    "\n",
    "# Example :\n",
    "\n",
    "List_2= (3,23.4,True,3+1j)\n",
    "\n",
    "List_2[1]=1\n",
    "print(List_2)\n",
    "\n",
    "\n",
    "\n",
    "\n",
    "\n",
    "\n",
    "\n"
   ]
  },
  {
   "cell_type": "code",
   "execution_count": 15,
   "id": "4c8392d2-60d4-49c1-a2cb-9f36c3e02842",
   "metadata": {},
   "outputs": [
    {
     "name": "stdout",
     "output_type": "stream",
     "text": [
      "{1, 2, 3, 'Ham', 23, 12, 'ham'}\n",
      "{1, 2, 3, 4, 7, 8, 9}\n",
      "{1, 2, 3}\n",
      "{77, 5, 6}\n",
      "{4, 8, 9, 47}\n"
     ]
    }
   ],
   "source": [
    "# Question . 5  Describe the key features of sets and provide examples of their use.\n",
    "\n",
    "# Answer :  Sets are unordered collection of unique elements . Duplicate item can't be add in sets.\n",
    "\n",
    "# Example \n",
    "set1 ={'Ham','ham',\"Ham\",\"ham\",1,1,1,12,2,23,3,3,}\n",
    "\n",
    " \n",
    "print (set1)\n",
    "\n",
    "\n",
    "#Set has some operators are :-\n",
    "\n",
    "#union -- Select all operator\n",
    "\n",
    "s1={1,2,3,4,}\n",
    "s2={7,8,9}\n",
    "\n",
    "print(s1|s2)\n",
    "\n",
    "#intersection --- Select only common elements\n",
    "\n",
    "s3={1,2,3,4,}\n",
    "s4={1,2,3,47,8,9}\n",
    "\n",
    "print(s3&s4)\n",
    "\n",
    "\n",
    "#Difference --- select only from first set and discard the unique value which present in both sets\n",
    "\n",
    "s5={1,2,3,4,5,6,77,7}\n",
    "s6={1,2,3,4,7,8,9}\n",
    "\n",
    "print(s5-s6)\n",
    "\n",
    "#symmetric Difference --- select only unique vale from both sets\n",
    "\n",
    "s3={1,2,3,4,}\n",
    "s4={1,2,3,47,8,9}\n",
    "\n",
    "print(s3^s4)\n",
    "\n",
    "\n",
    "\n",
    "\n",
    "# Frozen sets --- Frozenset are immutables.\n",
    "\n",
    "my_set= frozenset([1,2,3,4,4])\n",
    "\n",
    "\n"
   ]
  },
  {
   "cell_type": "code",
   "execution_count": 18,
   "id": "a383bbfa-2d09-4fd9-8187-23293c4c1a71",
   "metadata": {},
   "outputs": [
    {
     "ename": "TypeError",
     "evalue": "'tuple' object does not support item assignment",
     "output_type": "error",
     "traceback": [
      "\u001b[0;31m---------------------------------------------------------------------------\u001b[0m",
      "\u001b[0;31mTypeError\u001b[0m                                 Traceback (most recent call last)",
      "Cell \u001b[0;32mIn[18], line 13\u001b[0m\n\u001b[1;32m      1\u001b[0m \u001b[38;5;66;03m#  Question 6.  Discuss the use cases of tuples and sets in Python programming.\u001b[39;00m\n\u001b[1;32m      2\u001b[0m \n\u001b[1;32m      3\u001b[0m \u001b[38;5;66;03m# Answer ; Tuple and sets are both are have special functions . \u001b[39;00m\n\u001b[0;32m   (...)\u001b[0m\n\u001b[1;32m      8\u001b[0m \n\u001b[1;32m      9\u001b[0m \u001b[38;5;66;03m# Example :-\u001b[39;00m\n\u001b[1;32m     11\u001b[0m first\u001b[38;5;241m=\u001b[39m (\u001b[38;5;124m'\u001b[39m\u001b[38;5;124mgaurav\u001b[39m\u001b[38;5;124m'\u001b[39m,\u001b[38;5;124m'\u001b[39m\u001b[38;5;124mRahul\u001b[39m\u001b[38;5;124m'\u001b[39m , \u001b[38;5;124m'\u001b[39m\u001b[38;5;124mram\u001b[39m\u001b[38;5;124m'\u001b[39m)\n\u001b[0;32m---> 13\u001b[0m \u001b[43mfirst\u001b[49m\u001b[43m[\u001b[49m\u001b[38;5;241;43m1\u001b[39;49m\u001b[43m]\u001b[49m\u001b[38;5;241m=\u001b[39m\u001b[38;5;124m'\u001b[39m\u001b[38;5;124mironman\u001b[39m\u001b[38;5;124m'\u001b[39m\n\u001b[1;32m     16\u001b[0m \u001b[38;5;66;03m# 3 . Sets \u001b[39;00m\n\u001b[1;32m     17\u001b[0m \u001b[38;5;66;03m# set is use for collect only unique value in python.\u001b[39;00m\n\u001b[1;32m     18\u001b[0m \u001b[38;5;66;03m# example :--\u001b[39;00m\n\u001b[1;32m     20\u001b[0m Second \u001b[38;5;241m=\u001b[39m {\u001b[38;5;124m'\u001b[39m\u001b[38;5;124mGaurav\u001b[39m\u001b[38;5;124m'\u001b[39m,\u001b[38;5;124m'\u001b[39m\u001b[38;5;124mGaurav\u001b[39m\u001b[38;5;124m'\u001b[39m,\u001b[38;5;124m'\u001b[39m\u001b[38;5;124mram\u001b[39m\u001b[38;5;124m'\u001b[39m,\u001b[38;5;124m'\u001b[39m\u001b[38;5;124mram\u001b[39m\u001b[38;5;124m'\u001b[39m,\u001b[38;5;241m1\u001b[39m,\u001b[38;5;241m1\u001b[39m,\u001b[38;5;241m12\u001b[39m,\u001b[38;5;241m23\u001b[39m,}\n",
      "\u001b[0;31mTypeError\u001b[0m: 'tuple' object does not support item assignment"
     ]
    }
   ],
   "source": [
    "#  Question 6.  Discuss the use cases of tuples and sets in Python programming.\n",
    "\n",
    "# Answer ; Tuple and sets are both are have special functions . \n",
    "\n",
    "\n",
    "# 1 . Tuple \n",
    "# Tuple is use for immutable types of data in python :-- \n",
    "\n",
    "# Example :-\n",
    "\n",
    "first= ('gaurav','Rahul' , 'ram')\n",
    "\n",
    "first[1]='ironman'\n"
   ]
  },
  {
   "cell_type": "code",
   "execution_count": 19,
   "id": "97451dc1-0c16-472d-aff8-d61c624b7488",
   "metadata": {},
   "outputs": [
    {
     "name": "stdout",
     "output_type": "stream",
     "text": [
      "{1, 'Gaurav', 'ram', 23, 12}\n"
     ]
    }
   ],
   "source": [
    "# 3 . Sets \n",
    "# set is use for collect only unique value in python.\n",
    "# example :--\n",
    "\n",
    "Second = {'Gaurav','Gaurav','ram','ram',1,1,12,23,}\n",
    "print(Second)\n",
    "\n"
   ]
  },
  {
   "cell_type": "code",
   "execution_count": 25,
   "id": "0fa5b30b-c7c4-4b4a-94c7-cf0f114be4be",
   "metadata": {},
   "outputs": [
    {
     "name": "stdout",
     "output_type": "stream",
     "text": [
      "{'a': 1, 'b': 2, 'c': 3}\n",
      "{'a': 1, 'b': 2, 'c': 3, 'd': 1, 'A': 12}\n",
      "{'a': 89, 'b': 2, 'c': 3, 'd': 1, 'A': 12}\n",
      "{'name': 'Gaurav', 'Age': 20}\n",
      "{}\n"
     ]
    },
    {
     "data": {
      "text/plain": [
       "'ds'"
      ]
     },
     "execution_count": 25,
     "metadata": {},
     "output_type": "execute_result"
    }
   ],
   "source": [
    "\n",
    "# Question 7.  Describe how to add, modify, and delete items in a dictionary with examples.\n",
    "\n",
    "\n",
    "# Answer : There are many ways to add , modify and delete items in dictionary.\n",
    "\n",
    "\n",
    "# To add item in Dictionary :-\n",
    "\n",
    "#Example 1. ;\n",
    "new= {}\n",
    "new['a']=1\n",
    "new['b']=2\n",
    "new['c']=3\n",
    "\n",
    "print(new)\n",
    "\n",
    "# Exampple 2. :\n",
    "\n",
    "new.update({\"d\":1, \"A\":12})\n",
    "\n",
    "print(new)\n",
    "\n",
    "# To Modify item in dictionary :-\n",
    "#Example 1.\n",
    "\n",
    "new['a']=89\n",
    "\n",
    "print(new)\n",
    "\n",
    "# To delete the elements in python:-\n",
    "\n",
    "info={'name':'Gaurav','Age':20,'Course': \"ds\"}\n",
    "# to delete particular key\n",
    "\n",
    "del info[\"Course\"]\n",
    "\n",
    "print (info)\n",
    "\n",
    "# to delete whole Dictionary\n",
    "\n",
    "del info\n",
    "\n",
    "\n",
    "info={'name':'Gaurav','Age':20,'Course': \"ds\"}\n",
    "# to empty a dictionary\n",
    "\n",
    "info.clear()\n",
    "\n",
    "\n",
    "print(info)\n",
    "\n",
    "\n",
    "#example\n",
    "info={'name':'Gaurav','Age':20,'Course': \"ds\"}\n",
    "\n",
    "info.pop(\"Course\")\n",
    "\n"
   ]
  },
  {
   "cell_type": "code",
   "execution_count": 27,
   "id": "2e448ab4-0c96-4ee2-a011-2000b84bee5c",
   "metadata": {},
   "outputs": [
    {
     "data": {
      "text/plain": [
       "'Gaurav'"
      ]
     },
     "execution_count": 27,
     "metadata": {},
     "output_type": "execute_result"
    }
   ],
   "source": [
    "# Question 8.  Discuss the importance of dictionary keys being immutable and provide examples.\n",
    "\n",
    "\n",
    "#Answer : key in Dictionary is immutable becouse keys are index in dictionary\n",
    "\n",
    "info={'name':'Gaurav','Age':20,'Course': \"ds\"}\n",
    "\n",
    "info['name']\n",
    "\n",
    "\n",
    "\n",
    "\n",
    "\n"
   ]
  },
  {
   "cell_type": "code",
   "execution_count": null,
   "id": "c83e9b84-c4b7-4953-a8c5-55264f829fa9",
   "metadata": {},
   "outputs": [],
   "source": [
    "\n",
    "\n"
   ]
  },
  {
   "cell_type": "code",
   "execution_count": null,
   "id": "d33635e0-eb8b-4622-8612-c873eecadf06",
   "metadata": {},
   "outputs": [],
   "source": []
  },
  {
   "cell_type": "code",
   "execution_count": null,
   "id": "126bb9f5-c63c-4f9d-b6cd-29105fcdccf0",
   "metadata": {},
   "outputs": [],
   "source": []
  }
 ],
 "metadata": {
  "kernelspec": {
   "display_name": "Python 3 (ipykernel)",
   "language": "python",
   "name": "python3"
  },
  "language_info": {
   "codemirror_mode": {
    "name": "ipython",
    "version": 3
   },
   "file_extension": ".py",
   "mimetype": "text/x-python",
   "name": "python",
   "nbconvert_exporter": "python",
   "pygments_lexer": "ipython3",
   "version": "3.10.8"
  }
 },
 "nbformat": 4,
 "nbformat_minor": 5
}
